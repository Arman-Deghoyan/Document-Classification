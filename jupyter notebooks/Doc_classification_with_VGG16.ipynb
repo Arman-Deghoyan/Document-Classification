{
 "cells": [
  {
   "cell_type": "markdown",
   "id": "72b4cbc7",
   "metadata": {},
   "source": [
    "# Necessary imports"
   ]
  },
  {
   "cell_type": "code",
   "execution_count": 1,
   "id": "8a4e30c1",
   "metadata": {},
   "outputs": [],
   "source": [
    "from __future__ import print_function, division\n",
    "\n",
    "import torch\n",
    "import torch.nn as nn\n",
    "import torch.optim as optim\n",
    "from torch.optim import lr_scheduler\n",
    "import torch.backends.cudnn as cudnn\n",
    "import numpy as np\n",
    "import torchvision\n",
    "from torchvision import datasets, models, transforms\n",
    "import matplotlib.pyplot as plt\n",
    "from skimage import io\n",
    "import time\n",
    "import os\n",
    "import copy\n",
    "from torch.utils.data import Dataset\n",
    "from PIL import Image\n",
    "\n",
    "from torchvision.utils import make_grid\n",
    "import torch.nn.functional as F\n",
    "cudnn.benchmark = True"
   ]
  },
  {
   "cell_type": "markdown",
   "id": "d6f039c5",
   "metadata": {},
   "source": [
    "# Copy sample data from one folder to another"
   ]
  },
  {
   "cell_type": "code",
   "execution_count": 2,
   "id": "f9a99983",
   "metadata": {},
   "outputs": [],
   "source": [
    "# from tqdm import tqdm\n",
    "# import shutil\n",
    "\n",
    "# data_dir = '/home/ml_user/Downloads/final_project/train/'\n",
    "# destination_dir = \"/home/ml_user/Downloads/Arman_final_project_sample/\"\n",
    "# parent_list = os.listdir(data_dir)\n",
    "# print(parent_list)\n",
    "\n",
    "# for folder in os.listdir(data_dir):\n",
    "#     count = 0 \n",
    "#     current_directory = os.path.join(destination_dir, folder)\n",
    "#     if not os.path.exists(current_directory):\n",
    "#         os.mkdir(current_directory)\n",
    "#     for image in tqdm(os.listdir(os.path.join(data_dir, folder))):\n",
    "#         if count < 1000:\n",
    "#             image_path = os.path.join(data_dir + folder, image)\n",
    "#             shutil.copy(image_path, os.path.join(destination_dir + folder, image))\n",
    "#         else:\n",
    "#             break\n",
    "#         count += 1"
   ]
  },
  {
   "cell_type": "markdown",
   "id": "e543f7a6",
   "metadata": {},
   "source": [
    "# How to mount google drive to colab"
   ]
  },
  {
   "cell_type": "code",
   "execution_count": 3,
   "id": "c12fd9bf",
   "metadata": {},
   "outputs": [],
   "source": [
    "# from google.colab import drive\n",
    "# drive.mount('/content/drive')"
   ]
  },
  {
   "cell_type": "markdown",
   "id": "b869357c",
   "metadata": {},
   "source": [
    "# Check device whether cpu or gpu"
   ]
  },
  {
   "cell_type": "code",
   "execution_count": 4,
   "id": "9299064c",
   "metadata": {},
   "outputs": [
    {
     "name": "stdout",
     "output_type": "stream",
     "text": [
      "cpu\n"
     ]
    }
   ],
   "source": [
    "device = torch.device(\"cuda:0\" if torch.cuda.is_available() else \"cpu\")\n",
    "print(device)"
   ]
  },
  {
   "cell_type": "markdown",
   "id": "5e7c7e3e",
   "metadata": {},
   "source": [
    "# Data augmentation and normalization for training"
   ]
  },
  {
   "cell_type": "code",
   "execution_count": 5,
   "id": "fd6723dd",
   "metadata": {},
   "outputs": [],
   "source": [
    "# Just normalization for validation\n",
    "\n",
    "# data_transforms = {\n",
    "#     'train': transforms.Compose([\n",
    "#         transforms.RandomResizedCrop(224),\n",
    "#         transforms.RandomHorizontalFlip(),\n",
    "#         transforms.ToTensor(),\n",
    "#         #transforms.Normalize([0.485, 0.456, 0.406], [0.229, 0.224, 0.225])\n",
    "#     ]),\n",
    "#     'val': transforms.Compose([\n",
    "#         transforms.Resize(256),\n",
    "#         transforms.CenterCrop(224),\n",
    "#         transforms.ToTensor(),\n",
    "#         transforms.Normalize([0.485, 0.456, 0.406], [0.229, 0.224, 0.225])\n",
    "#     ]),\n",
    "# }"
   ]
  },
  {
   "cell_type": "markdown",
   "id": "3c8044ba",
   "metadata": {},
   "source": [
    "# How to read data with pytorch imagefolder"
   ]
  },
  {
   "cell_type": "code",
   "execution_count": 6,
   "id": "275bdf36",
   "metadata": {},
   "outputs": [
    {
     "data": {
      "text/plain": [
       "Dataset ImageFolder\n",
       "    Number of datapoints: 13000\n",
       "    Root location: /home/ml_user/Downloads/Arman_final_project_sample/"
      ]
     },
     "execution_count": 6,
     "metadata": {},
     "output_type": "execute_result"
    }
   ],
   "source": [
    "# Your data must be organized in separate folders each folder with the name the label and the images inside it \n",
    "# So if you have newspaper folder than all the newspaper images and files must be in that folder\n",
    "data_dir = '/home/ml_user/Downloads/Arman_final_project_sample/'\n",
    "\n",
    "#image_datasets = datasets.ImageFolder(data_dir, data_transforms['train'])\n",
    "image_datasets = datasets.ImageFolder(data_dir)\n",
    "image_datasets"
   ]
  },
  {
   "cell_type": "markdown",
   "id": "1d526386",
   "metadata": {},
   "source": [
    "# How to calculate mean and standart deviation of the images and apply transformations"
   ]
  },
  {
   "cell_type": "code",
   "execution_count": 7,
   "id": "84eb42fa",
   "metadata": {},
   "outputs": [],
   "source": [
    "def compute_mean_and_std():\n",
    "    batch_size = 128\n",
    "    image_datasets.transform =  transforms.Compose([\n",
    "                    transforms.Resize((224, 224)),\n",
    "                    transforms.ToTensor()])\n",
    "\n",
    "    loader = torch.utils.data.DataLoader(image_datasets, batch_size=batch_size, shuffle=True, num_workers=2)\n",
    "\n",
    "    psum    = torch.tensor([0.0, 0.0, 0.0])\n",
    "    psum_sq = torch.tensor([0.0, 0.0, 0.0])\n",
    "\n",
    "    for inputs, labels in loader:\n",
    "        psum    += inputs.sum(axis=[0, 2, 3])\n",
    "        psum_sq += (inputs ** 2).sum(axis=[0, 2, 3])\n",
    "\n",
    "    # pixel count\n",
    "    count = len(image_datasets) * 224 * 224\n",
    "\n",
    "    # mean and std\n",
    "    total_mean = psum / count\n",
    "    total_var  = (psum_sq / count) - (total_mean ** 2)\n",
    "    total_std  = torch.sqrt(total_var)\n",
    "\n",
    "    # output\n",
    "    print('mean: '  + str(total_mean))\n",
    "    print('std:  '  + str(total_std))"
   ]
  },
  {
   "cell_type": "code",
   "execution_count": 8,
   "id": "85d7b687",
   "metadata": {},
   "outputs": [],
   "source": [
    "# compute_mean_and_std()"
   ]
  },
  {
   "cell_type": "markdown",
   "id": "26664085",
   "metadata": {},
   "source": [
    "# How to split split train and test data"
   ]
  },
  {
   "cell_type": "code",
   "execution_count": 9,
   "id": "a418e05a",
   "metadata": {},
   "outputs": [],
   "source": [
    "import torch.utils.data as torch_data\n",
    "\n",
    "train_set_size = int(len(image_datasets) * 0.8)\n",
    "valid_set_size = len(image_datasets) - train_set_size\n",
    "train_set, valid_set = torch_data.random_split(image_datasets, [train_set_size, valid_set_size])"
   ]
  },
  {
   "cell_type": "markdown",
   "id": "168f922d",
   "metadata": {},
   "source": [
    "# How to apply the transformations to the dataset"
   ]
  },
  {
   "cell_type": "code",
   "execution_count": 10,
   "id": "aa9d61a1",
   "metadata": {},
   "outputs": [],
   "source": [
    "train_data_transforms = transforms.Compose([\n",
    "                transforms.Resize((256, 256)),\n",
    "                transforms.RandomResizedCrop((224, 224)),\n",
    "                transforms.ToTensor(),\n",
    "                # Here normalize uses the computed mean and std\n",
    "                transforms.Normalize(mean=0.9151, std=0.2046)\n",
    "            ])\n",
    "\n",
    "test_data_transforms = transforms.Compose([\n",
    "                transforms.Resize((224, 224)),\n",
    "                transforms.ToTensor(),\n",
    "                # Here normalize uses the computed mean and std\n",
    "                transforms.Normalize(mean=0.9151, std=0.2046)\n",
    "            ])\n",
    "\n",
    "train_set.dataset.transform = train_data_transforms\n",
    "valid_set.dataset.transform = test_data_transforms"
   ]
  },
  {
   "cell_type": "markdown",
   "id": "cbecac31",
   "metadata": {},
   "source": [
    "# Get the train and validation loaders"
   ]
  },
  {
   "cell_type": "code",
   "execution_count": 11,
   "id": "53798984",
   "metadata": {},
   "outputs": [
    {
     "name": "stdout",
     "output_type": "stream",
     "text": [
      "['ad', 'cv', 'email', 'file', 'handwritten', 'invoice', 'letter', 'memorandum', 'newspaper', 'publication', 'report', 'specification', 'survey']\n"
     ]
    }
   ],
   "source": [
    "train_loader = torch.utils.data.DataLoader(train_set, batch_size=32, shuffle=True, num_workers=6)\n",
    "val_loader = torch.utils.data.DataLoader(valid_set, batch_size=32, shuffle=True, num_workers=6)\n",
    "\n",
    "#dataset_sizes = {x: len(image_datasets[x]) for x in ['train']}\n",
    "\n",
    "class_names = image_datasets.classes\n",
    "print(class_names)"
   ]
  },
  {
   "cell_type": "markdown",
   "id": "26a68681",
   "metadata": {},
   "source": [
    "# Make sure the train and validation loader are set correctly "
   ]
  },
  {
   "cell_type": "code",
   "execution_count": 12,
   "id": "ae7514b9",
   "metadata": {},
   "outputs": [
    {
     "name": "stdout",
     "output_type": "stream",
     "text": [
      "torch.Size([32, 3, 224, 224])\n",
      "tensor([11,  7,  4,  6,  8,  1,  7,  0, 12, 11,  2, 11,  6,  2,  1,  7,  6,  1,\n",
      "         2,  3,  5,  7,  9,  0,  4, 12, 11, 10,  8,  4,  4,  2])\n"
     ]
    }
   ],
   "source": [
    "for x, target in train_loader:\n",
    "    print(x.shape)\n",
    "    print(target)\n",
    "    break"
   ]
  },
  {
   "cell_type": "markdown",
   "id": "0510a62b",
   "metadata": {},
   "source": [
    "# Plot the images with their labels "
   ]
  },
  {
   "cell_type": "code",
   "execution_count": 13,
   "id": "99eb527b",
   "metadata": {},
   "outputs": [
    {
     "name": "stderr",
     "output_type": "stream",
     "text": [
      "Clipping input data to the valid range for imshow with RGB data ([0..1] for floats or [0..255] for integers).\n"
     ]
    },
    {
     "name": "stdout",
     "output_type": "stream",
     "text": [
      "Label: [   10     1     3     5     4     7    12     9    12     5     4     8\n",
      "    11     8     0     6     1    11    10     3    11    11     5     2\n",
      "    10    10     2     3     9     1    10     8]\n",
      "Class:  report cv file invoice handwritten memorandum survey publication survey invoice handwritten newspaper specification newspaper ad letter cv specification report file specification specification invoice email report report email file publication cv report newspaper\n"
     ]
    },
    {
     "data": {
      "image/png": "[encoded data removed]",
      "text/plain": [
       "<Figure size 864x432 with 1 Axes>"
      ]
     },
     "metadata": {
      "needs_background": "light"
     },
     "output_type": "display_data"
    }
   ],
   "source": [
    "np.set_printoptions(formatter=dict(int=lambda x: f'{x:5}')) # to widen the printed array\n",
    "\n",
    "# Grab the first batch of 10 images\n",
    "for images,labels in train_loader: \n",
    "    break\n",
    "\n",
    "# Print the labels\n",
    "print('Label:', labels.numpy())\n",
    "print('Class: ', *np.array([class_names[i] for i in labels]))\n",
    "\n",
    "# Print the images\n",
    "im = make_grid(images, nrow=5)  # the default nrow is 8\n",
    "plt.figure(figsize=(12,6))\n",
    "plt.imshow(np.transpose(im.numpy(), (1, 2, 0)));"
   ]
  },
  {
   "cell_type": "markdown",
   "id": "cce3a033",
   "metadata": {},
   "source": [
    "# Try couple of architectures "
   ]
  },
  {
   "cell_type": "code",
   "execution_count": 14,
   "id": "1a2c9d5f",
   "metadata": {},
   "outputs": [],
   "source": [
    "class ConvolutionalNetwork(nn.Module):\n",
    "    def __init__(self):\n",
    "        super().__init__()\n",
    "        self.conv1 = nn.Conv2d(3, 6, 3, 1)  # changed from (1, 6, 5, 1)\n",
    "        self.conv2 = nn.Conv2d(6, 16, 3, 1)\n",
    "        self.fc1 = nn.Linear(54*54*16, 120)   \n",
    "        self.fc2 = nn.Linear(120,84)\n",
    "        self.fc3 = nn.Linear(84, 13)\n",
    "\n",
    "    def forward(self, X):\n",
    "        X = F.relu(self.conv1(X))\n",
    "        X = F.max_pool2d(X, 2, 2)\n",
    "        X = F.relu(self.conv2(X))\n",
    "        X = F.max_pool2d(X, 2, 2)\n",
    "        X = X.view(-1, 54*54*16)\n",
    "        X = F.relu(self.fc1(X))\n",
    "        X = F.relu(self.fc2(X))\n",
    "        X = self.fc3(X)\n",
    "        return F.log_softmax(X, dim=1)"
   ]
  },
  {
   "cell_type": "markdown",
   "id": "0f4e2670",
   "metadata": {},
   "source": [
    "# Another conv architecture"
   ]
  },
  {
   "cell_type": "code",
   "execution_count": 15,
   "id": "f109b2c7",
   "metadata": {},
   "outputs": [],
   "source": [
    "class ConvolutionalNetwork(nn.Module):\n",
    "    def __init__(self):\n",
    "        super().__init__()\n",
    "        self.conv1 = nn.Conv2d(3, 6, 3, 1)  # changed from (1, 6, 5, 1)\n",
    "        self.conv2 = nn.Conv2d(6, 16, 3, 1)\n",
    "        self.conv3 = nn.Conv2d(16, 32, 3, 1)\n",
    "        self.fc1 = nn.Linear(52*52*32, 1024)   # changed from (4*4*16) to fit 32x32 images with 3x3 filters\n",
    "        self.fc2 = nn.Linear(1024,512)\n",
    "        self.fc3 = nn.Linear(512, 13)\n",
    "\n",
    "    def forward(self, X):\n",
    "        X = F.relu(self.conv1(X))\n",
    "        X = F.max_pool2d(X, 2, 2)\n",
    "        X = F.relu(self.conv2(X))\n",
    "        X = F.max_pool2d(X, 2, 2)\n",
    "        X = F.relu(self.conv3(X))\n",
    "        X = X.view(-1, 114*114*32)\n",
    "        X = F.relu(self.fc1(X))\n",
    "        X = F.relu(self.fc2(X))\n",
    "        X = self.fc3(X)\n",
    "        return F.log_softmax(X, dim=1)"
   ]
  },
  {
   "cell_type": "code",
   "execution_count": 16,
   "id": "47e14e03",
   "metadata": {},
   "outputs": [
    {
     "data": {
      "text/plain": [
       "ConvolutionalNetwork(\n",
       "  (conv1): Conv2d(3, 6, kernel_size=(3, 3), stride=(1, 1))\n",
       "  (conv2): Conv2d(6, 16, kernel_size=(3, 3), stride=(1, 1))\n",
       "  (conv3): Conv2d(16, 32, kernel_size=(3, 3), stride=(1, 1))\n",
       "  (fc1): Linear(in_features=86528, out_features=1024, bias=True)\n",
       "  (fc2): Linear(in_features=1024, out_features=512, bias=True)\n",
       "  (fc3): Linear(in_features=512, out_features=13, bias=True)\n",
       ")"
      ]
     },
     "execution_count": 16,
     "metadata": {},
     "output_type": "execute_result"
    }
   ],
   "source": [
    "torch.manual_seed(101)\n",
    "model = ConvolutionalNetwork()\n",
    "model"
   ]
  },
  {
   "cell_type": "markdown",
   "id": "98aba32d",
   "metadata": {},
   "source": [
    "# How to count parameters of the network"
   ]
  },
  {
   "cell_type": "code",
   "execution_count": 17,
   "id": "38151324",
   "metadata": {},
   "outputs": [],
   "source": [
    "def count_parameters(model):\n",
    "    params = [p.numel() for p in model.parameters() if p.requires_grad]\n",
    "    for item in params:\n",
    "        print(f'{item:>6}')\n",
    "    print(f'______\\n{sum(params):>6}')"
   ]
  },
  {
   "cell_type": "code",
   "execution_count": 18,
   "id": "709e5e59",
   "metadata": {},
   "outputs": [
    {
     "name": "stdout",
     "output_type": "stream",
     "text": [
      "   162\n",
      "     6\n",
      "   864\n",
      "    16\n",
      "  4608\n",
      "    32\n",
      "88604672\n",
      "  1024\n",
      "524288\n",
      "   512\n",
      "  6656\n",
      "    13\n",
      "______\n",
      "89142853\n"
     ]
    }
   ],
   "source": [
    "count_parameters(model)"
   ]
  },
  {
   "cell_type": "markdown",
   "id": "c24593fe",
   "metadata": {},
   "source": [
    "# How to use the vgg model and adjust the last layer according number of classess"
   ]
  },
  {
   "cell_type": "code",
   "execution_count": 19,
   "id": "feb4c918",
   "metadata": {},
   "outputs": [
    {
     "data": {
      "text/plain": [
       "VGG(\n",
       "  (features): Sequential(\n",
       "    (0): Conv2d(3, 64, kernel_size=(3, 3), stride=(1, 1), padding=(1, 1))\n",
       "    (1): ReLU(inplace=True)\n",
       "    (2): Conv2d(64, 64, kernel_size=(3, 3), stride=(1, 1), padding=(1, 1))\n",
       "    (3): ReLU(inplace=True)\n",
       "    (4): MaxPool2d(kernel_size=2, stride=2, padding=0, dilation=1, ceil_mode=False)\n",
       "    (5): Conv2d(64, 128, kernel_size=(3, 3), stride=(1, 1), padding=(1, 1))\n",
       "    (6): ReLU(inplace=True)\n",
       "    (7): Conv2d(128, 128, kernel_size=(3, 3), stride=(1, 1), padding=(1, 1))\n",
       "    (8): ReLU(inplace=True)\n",
       "    (9): MaxPool2d(kernel_size=2, stride=2, padding=0, dilation=1, ceil_mode=False)\n",
       "    (10): Conv2d(128, 256, kernel_size=(3, 3), stride=(1, 1), padding=(1, 1))\n",
       "    (11): ReLU(inplace=True)\n",
       "    (12): Conv2d(256, 256, kernel_size=(3, 3), stride=(1, 1), padding=(1, 1))\n",
       "    (13): ReLU(inplace=True)\n",
       "    (14): Conv2d(256, 256, kernel_size=(3, 3), stride=(1, 1), padding=(1, 1))\n",
       "    (15): ReLU(inplace=True)\n",
       "    (16): MaxPool2d(kernel_size=2, stride=2, padding=0, dilation=1, ceil_mode=False)\n",
       "    (17): Conv2d(256, 512, kernel_size=(3, 3), stride=(1, 1), padding=(1, 1))\n",
       "    (18): ReLU(inplace=True)\n",
       "    (19): Conv2d(512, 512, kernel_size=(3, 3), stride=(1, 1), padding=(1, 1))\n",
       "    (20): ReLU(inplace=True)\n",
       "    (21): Conv2d(512, 512, kernel_size=(3, 3), stride=(1, 1), padding=(1, 1))\n",
       "    (22): ReLU(inplace=True)\n",
       "    (23): MaxPool2d(kernel_size=2, stride=2, padding=0, dilation=1, ceil_mode=False)\n",
       "    (24): Conv2d(512, 512, kernel_size=(3, 3), stride=(1, 1), padding=(1, 1))\n",
       "    (25): ReLU(inplace=True)\n",
       "    (26): Conv2d(512, 512, kernel_size=(3, 3), stride=(1, 1), padding=(1, 1))\n",
       "    (27): ReLU(inplace=True)\n",
       "    (28): Conv2d(512, 512, kernel_size=(3, 3), stride=(1, 1), padding=(1, 1))\n",
       "    (29): ReLU(inplace=True)\n",
       "    (30): MaxPool2d(kernel_size=2, stride=2, padding=0, dilation=1, ceil_mode=False)\n",
       "  )\n",
       "  (avgpool): AdaptiveAvgPool2d(output_size=(7, 7))\n",
       "  (classifier): Sequential(\n",
       "    (0): Linear(in_features=25088, out_features=4096, bias=True)\n",
       "    (1): ReLU(inplace=True)\n",
       "    (2): Dropout(p=0.5, inplace=False)\n",
       "    (3): Linear(in_features=4096, out_features=4096, bias=True)\n",
       "    (4): ReLU(inplace=True)\n",
       "    (5): Dropout(p=0.5, inplace=False)\n",
       "    (6): Linear(in_features=4096, out_features=13, bias=True)\n",
       "  )\n",
       ")"
      ]
     },
     "execution_count": 19,
     "metadata": {},
     "output_type": "execute_result"
    }
   ],
   "source": [
    "from traitlets.traitlets import ForwardDeclaredInstance\n",
    "from torchvision import models\n",
    "\n",
    "vgg16 = models.vgg16(pretrained=False)\n",
    "\n",
    "num_classes = 13\n",
    "\n",
    "vgg16.classifier = nn.Linear(25088, num_classes)\n",
    "vgg16.to(device)"
   ]
  },
  {
   "cell_type": "markdown",
   "id": "dc573205",
   "metadata": {},
   "source": [
    "## Define loss function & optimizer"
   ]
  },
  {
   "cell_type": "code",
   "execution_count": 20,
   "id": "9f91ba42",
   "metadata": {},
   "outputs": [],
   "source": [
    "from torch.optim.lr_scheduler import ReduceLROnPlateau\n",
    "\n",
    "criterion = nn.CrossEntropyLoss()\n",
    "optimizer = torch.optim.Adam(vgg16.parameters(), lr=0.0001, weight_decay=0.015)\n",
    "scheduler = ReduceLROnPlateau(optimizer, 'min', patience=2, factor=0.3)"
   ]
  },
  {
   "cell_type": "markdown",
   "id": "ada44775",
   "metadata": {},
   "source": [
    "## Train the model\n",
    "This time we'll feed the data directly into the model without flattening it first.<br>\n",
    "<div class=\"alert alert-info\"><font color=blue><strong>OPTIONAL: </strong>In the event that training takes too long, you can interrupt the kernel, skip ahead to the bottom of the notebook, and load a trained version of the model that's been saved in this folder.</font></div>"
   ]
  },
  {
   "cell_type": "markdown",
   "id": "de526243",
   "metadata": {},
   "source": [
    "# One way of training our model "
   ]
  },
  {
   "cell_type": "code",
   "execution_count": 21,
   "id": "8b2a4333",
   "metadata": {},
   "outputs": [
    {
     "name": "stderr",
     "output_type": "stream",
     "text": [
      "  0%|                                                    | 0/5 [00:00<?, ?it/s]\n",
      "0it [00:00, ?it/s]\u001b[A\n",
      "1it [00:07,  7.25s/it]\u001b[A\n",
      "2it [00:13,  6.92s/it]\u001b[A\n",
      "3it [00:20,  6.92s/it]\u001b[A\n",
      "4it [00:27,  6.94s/it]\u001b[A\n",
      "5it [00:36,  7.57s/it]\u001b[A\n",
      "6it [00:44,  7.66s/it]\u001b[A\n",
      "7it [00:52,  7.73s/it]\u001b[A\n",
      "8it [01:00,  8.03s/it]\u001b[A\n",
      "9it [01:08,  7.84s/it]\u001b[A\n",
      "10it [01:16,  7.95s/it]\u001b[A\n",
      "11it [01:24,  7.99s/it]\u001b[A\n",
      "12it [01:33,  8.32s/it]\u001b[A\n",
      "13it [01:41,  8.05s/it]\u001b[A\n",
      "14it [01:49,  8.03s/it]\u001b[A\n",
      "15it [01:57,  8.00s/it]\u001b[A\n",
      "16it [02:05,  8.02s/it]\u001b[A\n",
      "17it [02:12,  7.93s/it]\u001b[A\n",
      "18it [02:20,  7.84s/it]\u001b[A\n",
      "19it [02:28,  7.85s/it]\u001b[A\n",
      "20it [02:36,  7.84s/it]\u001b[A\n",
      "21it [02:44,  7.95s/it]\u001b[A\n",
      "22it [02:53,  8.31s/it]\u001b[A\n",
      "23it [03:01,  8.24s/it]\u001b[A\n",
      "24it [03:09,  8.05s/it]\u001b[A\n",
      "25it [03:17,  8.00s/it]\u001b[A\n",
      "26it [03:25,  8.03s/it]\u001b[A\n",
      "27it [03:33,  8.05s/it]\u001b[A\n",
      "28it [03:41,  8.05s/it]\u001b[A\n",
      "29it [03:48,  7.75s/it]\u001b[A\n",
      "30it [03:56,  7.82s/it]\u001b[A\n",
      "31it [04:03,  7.70s/it]\u001b[A\n",
      "32it [04:10,  7.54s/it]\u001b[A\n",
      "33it [04:18,  7.52s/it]\u001b[A\n",
      "34it [04:25,  7.48s/it]\u001b[A\n",
      "35it [04:33,  7.57s/it]\u001b[A\n",
      "36it [04:42,  7.96s/it]\u001b[A\n",
      "37it [04:51,  8.20s/it]\u001b[A\n",
      "38it [04:59,  8.27s/it]\u001b[A\n",
      "39it [05:07,  8.22s/it]\u001b[A\n",
      "40it [05:15,  8.14s/it]\u001b[A\n",
      "41it [05:24,  8.22s/it]\u001b[A\n",
      "42it [05:32,  8.36s/it]\u001b[A\n",
      "43it [05:41,  8.61s/it]\u001b[A\n",
      "44it [05:50,  8.57s/it]\u001b[A\n",
      "45it [05:58,  8.32s/it]\u001b[A\n",
      "46it [06:05,  8.12s/it]\u001b[A\n",
      "47it [06:14,  8.16s/it]\u001b[A\n",
      "48it [06:21,  7.95s/it]\u001b[A\n",
      "49it [06:29,  8.06s/it]\u001b[A\n",
      "50it [06:37,  7.83s/it]\u001b[A\n",
      "51it [06:44,  7.81s/it]\u001b[A\n",
      "52it [06:52,  7.83s/it]\u001b[A\n",
      "53it [07:00,  7.77s/it]\u001b[A\n",
      "54it [07:08,  7.90s/it]\u001b[A\n",
      "55it [07:18,  8.41s/it]\u001b[A\n",
      "56it [07:26,  8.40s/it]\u001b[A\n",
      "57it [07:35,  8.53s/it]\u001b[A\n",
      "58it [07:43,  8.52s/it]\u001b[A\n",
      "59it [07:52,  8.48s/it]\u001b[A\n",
      "60it [08:00,  8.44s/it]\u001b[A\n",
      "61it [08:09,  8.47s/it]\u001b[A\n",
      "62it [08:17,  8.58s/it]\u001b[A\n",
      "63it [08:27,  8.80s/it]\u001b[A\n",
      "64it [08:36,  8.86s/it]\u001b[A\n",
      "65it [08:45,  8.88s/it]\u001b[A\n",
      "66it [08:53,  8.71s/it]\u001b[A\n",
      "67it [09:02,  8.80s/it]\u001b[A\n",
      "68it [09:11,  8.96s/it]\u001b[A\n",
      "69it [09:20,  8.87s/it]\u001b[A\n",
      "70it [09:28,  8.59s/it]\u001b[A\n",
      "71it [09:37,  8.58s/it]\u001b[A\n",
      "72it [09:46,  8.76s/it]\u001b[A\n",
      "73it [09:54,  8.66s/it]\u001b[A\n",
      "74it [10:03,  8.85s/it]\u001b[A\n",
      "75it [10:12,  8.68s/it]\u001b[A\n",
      "76it [10:21,  8.85s/it]\u001b[A\n",
      "77it [10:29,  8.68s/it]\u001b[A\n",
      "78it [10:38,  8.83s/it]\u001b[A\n",
      "79it [10:47,  8.83s/it]\u001b[A\n",
      "80it [10:55,  8.58s/it]\u001b[A\n",
      "81it [11:04,  8.51s/it]\u001b[A\n",
      "82it [11:12,  8.34s/it]\u001b[A\n",
      "83it [11:20,  8.37s/it]\u001b[A\n",
      "84it [11:29,  8.42s/it]\u001b[A\n",
      "85it [11:38,  8.68s/it]\u001b[A\n",
      "86it [11:46,  8.47s/it]\u001b[A\n",
      "87it [11:53,  8.20s/it]\u001b[A\n",
      "88it [12:01,  8.11s/it]\u001b[A\n",
      "89it [12:09,  8.06s/it]\u001b[A\n",
      "90it [12:18,  8.13s/it]\u001b[A\n",
      "91it [12:25,  7.93s/it]\u001b[A\n",
      "92it [12:34,  8.39s/it]\u001b[A\n",
      "93it [12:43,  8.34s/it]\u001b[A\n",
      "94it [12:51,  8.34s/it]\u001b[A\n",
      "95it [12:59,  8.37s/it]\u001b[A\n",
      "96it [13:08,  8.49s/it]\u001b[A\n",
      "97it [13:16,  8.24s/it]\u001b[A\n",
      "98it [13:25,  8.40s/it]\u001b[A\n",
      "99it [13:34,  8.58s/it]\u001b[A\n",
      "100it [13:42,  8.46s/it]\u001b[A\n",
      "101it [13:50,  8.43s/it]\u001b[A\n",
      "102it [13:59,  8.47s/it]\u001b[A\n",
      "103it [14:06,  8.11s/it]\u001b[A\n",
      "104it [14:14,  8.00s/it]\u001b[A\n",
      "105it [14:22,  8.06s/it]\u001b[A\n",
      "106it [14:30,  8.06s/it]\u001b[A\n",
      "107it [14:38,  8.14s/it]\u001b[A\n",
      "108it [14:47,  8.27s/it]\u001b[A\n",
      "109it [14:55,  8.33s/it]\u001b[A\n",
      "110it [15:04,  8.51s/it]\u001b[A\n",
      "111it [15:13,  8.47s/it]\u001b[A\n",
      "112it [15:21,  8.52s/it]\u001b[A\n",
      "113it [15:30,  8.54s/it]\u001b[A\n",
      "114it [15:39,  8.61s/it]\u001b[A\n",
      "115it [15:46,  8.31s/it]\u001b[A\n",
      "116it [15:54,  8.17s/it]\u001b[A\n",
      "117it [16:02,  8.00s/it]\u001b[A\n",
      "118it [16:11,  8.27s/it]\u001b[A\n",
      "119it [16:19,  8.33s/it]\u001b[A\n",
      "120it [16:28,  8.63s/it]\u001b[A\n",
      "121it [16:37,  8.58s/it]\u001b[A\n",
      "122it [16:44,  8.18s/it]\u001b[A\n",
      "123it [16:52,  8.00s/it]\u001b[A\n",
      "124it [16:59,  7.87s/it]\u001b[A\n",
      "125it [17:06,  7.65s/it]\u001b[A\n",
      "126it [17:14,  7.65s/it]\u001b[A\n",
      "127it [17:22,  7.87s/it]\u001b[A\n",
      "128it [17:31,  8.13s/it]\u001b[A\n",
      "129it [17:40,  8.21s/it]\u001b[A\n",
      "130it [17:48,  8.20s/it]\u001b[A\n",
      "131it [17:55,  7.93s/it]\u001b[A\n",
      "132it [18:03,  7.79s/it]\u001b[A\n",
      "133it [18:10,  7.76s/it]\u001b[A\n",
      "134it [18:18,  7.78s/it]\u001b[A\n",
      "135it [18:26,  7.78s/it]\u001b[A\n",
      "136it [18:34,  7.78s/it]\u001b[A\n",
      "137it [18:42,  7.88s/it]\u001b[A\n",
      "138it [18:49,  7.81s/it]\u001b[A\n",
      "139it [18:57,  7.74s/it]\u001b[A\n",
      "140it [19:05,  7.71s/it]\u001b[A\n",
      "141it [19:13,  7.79s/it]\u001b[A\n",
      "142it [19:20,  7.79s/it]\u001b[A\n",
      "143it [19:28,  7.73s/it]\u001b[A\n",
      "144it [19:37,  8.09s/it]\u001b[A\n",
      "145it [19:46,  8.34s/it]\u001b[A\n",
      "146it [19:53,  8.14s/it]\u001b[A\n",
      "147it [20:02,  8.26s/it]\u001b[A\n",
      "148it [20:10,  8.25s/it]\u001b[A\n",
      "149it [20:18,  8.21s/it]\u001b[A\n",
      "150it [20:27,  8.22s/it]\u001b[A\n",
      "151it [20:34,  8.09s/it]\u001b[A\n",
      "152it [20:42,  8.09s/it]\u001b[A\n",
      "153it [20:50,  7.88s/it]\u001b[A\n",
      "154it [20:57,  7.63s/it]\u001b[A\n",
      "155it [21:05,  7.74s/it]\u001b[A\n",
      "156it [21:14,  8.03s/it]\u001b[A\n",
      "157it [21:22,  8.04s/it]\u001b[A\n",
      "158it [21:29,  7.90s/it]\u001b[A\n",
      "159it [21:37,  7.96s/it]\u001b[A\n",
      "160it [21:46,  8.12s/it]\u001b[A\n",
      "161it [21:55,  8.49s/it]\u001b[A\n",
      "162it [22:03,  8.26s/it]\u001b[A\n",
      "163it [22:12,  8.36s/it]\u001b[A\n",
      "164it [22:20,  8.29s/it]\u001b[A\n",
      "165it [22:27,  7.98s/it]\u001b[A\n",
      "166it [22:35,  8.13s/it]\u001b[A\n",
      "167it [22:44,  8.36s/it]\u001b[A\n",
      "168it [22:52,  8.31s/it]\u001b[A\n",
      "169it [23:01,  8.24s/it]\u001b[A\n",
      "170it [23:10,  8.51s/it]\u001b[A\n",
      "171it [23:17,  8.29s/it]\u001b[A\n",
      "172it [23:26,  8.32s/it]\u001b[A\n",
      "173it [23:35,  8.43s/it]\u001b[A\n",
      "174it [23:43,  8.57s/it]\u001b[A\n",
      "175it [23:52,  8.70s/it]\u001b[A\n",
      "176it [24:00,  8.36s/it]\u001b[A\n",
      "177it [24:08,  8.34s/it]\u001b[A\n",
      "178it [24:17,  8.38s/it]\u001b[A\n",
      "179it [24:24,  8.15s/it]\u001b[A\n",
      "180it [24:33,  8.16s/it]\u001b[A\n",
      "181it [24:40,  8.00s/it]\u001b[A\n",
      "182it [24:48,  7.91s/it]\u001b[A\n",
      "183it [24:55,  7.73s/it]\u001b[A\n",
      "184it [25:02,  7.41s/it]\u001b[A\n",
      "185it [25:08,  7.16s/it]\u001b[A\n",
      "186it [25:15,  7.03s/it]\u001b[A\n",
      "187it [25:22,  6.89s/it]\u001b[A\n",
      "188it [25:28,  6.79s/it]\u001b[A\n",
      "189it [25:35,  6.80s/it]\u001b[A\n",
      "190it [25:42,  6.79s/it]\u001b[A\n",
      "191it [25:48,  6.73s/it]\u001b[A\n",
      "192it [25:55,  6.66s/it]\u001b[A\n",
      "193it [26:02,  6.62s/it]\u001b[A\n",
      "194it [26:08,  6.65s/it]\u001b[A\n",
      "195it [26:15,  6.60s/it]\u001b[A\n",
      "196it [26:21,  6.59s/it]\u001b[A\n",
      "197it [26:28,  6.58s/it]\u001b[A\n",
      "198it [26:34,  6.59s/it]\u001b[A\n",
      "199it [26:41,  6.57s/it]\u001b[A\n",
      "200it [26:48,  6.65s/it]\u001b[A\n",
      "201it [26:54,  6.61s/it]\u001b[A\n",
      "202it [27:01,  6.59s/it]\u001b[A\n",
      "203it [27:07,  6.59s/it]\u001b[A\n",
      "204it [27:14,  6.60s/it]\u001b[A\n",
      "205it [27:21,  6.58s/it]\u001b[A\n",
      "206it [27:27,  6.61s/it]\u001b[A\n",
      "207it [27:34,  6.59s/it]\u001b[A\n",
      "208it [27:40,  6.57s/it]\u001b[A\n",
      "209it [27:47,  6.56s/it]\u001b[A\n",
      "210it [27:53,  6.56s/it]\u001b[A\n",
      "211it [28:00,  6.58s/it]\u001b[A\n",
      "212it [28:07,  6.66s/it]\u001b[A\n",
      "213it [28:14,  6.64s/it]\u001b[A\n",
      "214it [28:20,  6.61s/it]\u001b[A\n",
      "215it [28:27,  6.62s/it]\u001b[A\n",
      "216it [28:33,  6.59s/it]\u001b[A\n",
      "217it [28:40,  6.66s/it]\u001b[A\n",
      "218it [28:47,  6.67s/it]\u001b[A\n",
      "219it [28:54,  6.71s/it]\u001b[A\n",
      "220it [29:00,  6.65s/it]\u001b[A\n",
      "221it [29:07,  6.71s/it]\u001b[A\n",
      "222it [29:13,  6.66s/it]\u001b[A\n",
      "223it [29:20,  6.65s/it]\u001b[A\n",
      "224it [29:27,  6.71s/it]\u001b[A\n",
      "225it [29:33,  6.65s/it]\u001b[A\n",
      "226it [29:41,  6.85s/it]\u001b[A\n",
      "227it [29:48,  6.97s/it]\u001b[A\n",
      "228it [29:55,  6.90s/it]\u001b[A\n",
      "229it [30:01,  6.78s/it]\u001b[A\n",
      "230it [30:08,  6.72s/it]\u001b[A\n",
      "231it [30:14,  6.67s/it]\u001b[A\n",
      "232it [30:21,  6.64s/it]\u001b[A\n",
      "233it [30:28,  6.67s/it]\u001b[A\n",
      "234it [30:34,  6.62s/it]\u001b[A\n",
      "235it [30:41,  6.66s/it]\u001b[A\n",
      "236it [30:48,  6.63s/it]\u001b[A\n",
      "237it [30:54,  6.59s/it]\u001b[A\n",
      "238it [31:01,  6.61s/it]\u001b[A\n",
      "239it [31:07,  6.60s/it]\u001b[A\n",
      "240it [31:14,  6.57s/it]\u001b[A\n",
      "241it [31:20,  6.55s/it]\u001b[A\n",
      "242it [31:27,  6.54s/it]\u001b[A\n",
      "243it [31:33,  6.54s/it]\u001b[A\n",
      "244it [31:40,  6.55s/it]\u001b[A\n",
      "245it [31:46,  6.57s/it]\u001b[A\n",
      "246it [31:53,  6.55s/it]\u001b[A\n",
      "247it [32:00,  6.58s/it]\u001b[A\n",
      "248it [32:06,  6.56s/it]\u001b[A\n",
      "249it [32:13,  6.53s/it]\u001b[A\n",
      "250it [32:20,  6.66s/it]\u001b[A\n",
      "251it [32:26,  6.61s/it]\u001b[A\n",
      "252it [32:33,  6.56s/it]\u001b[A\n",
      "253it [32:39,  6.54s/it]\u001b[A\n",
      "254it [32:46,  6.54s/it]\u001b[A\n",
      "255it [32:52,  6.55s/it]\u001b[A\n",
      "256it [32:59,  6.58s/it]\u001b[A\n",
      "257it [33:05,  6.56s/it]\u001b[A\n",
      "258it [33:12,  6.58s/it]\u001b[A\n",
      "259it [33:18,  6.56s/it]\u001b[A\n",
      "260it [33:25,  6.56s/it]\u001b[A\n",
      "261it [33:32,  6.55s/it]\u001b[A\n",
      "262it [33:38,  6.55s/it]\u001b[A\n",
      "263it [33:45,  6.66s/it]\u001b[A\n",
      "264it [33:52,  6.64s/it]\u001b[A\n",
      "265it [33:58,  6.62s/it]\u001b[A\n",
      "266it [34:05,  6.60s/it]\u001b[A\n",
      "267it [34:11,  6.62s/it]\u001b[A\n",
      "268it [34:20,  7.09s/it]\u001b[A\n",
      "269it [34:27,  7.29s/it]\u001b[A\n",
      "270it [34:34,  7.22s/it]\u001b[A\n",
      "271it [34:42,  7.26s/it]\u001b[A\n",
      "272it [34:50,  7.49s/it]\u001b[A\n",
      "273it [34:58,  7.63s/it]\u001b[A\n",
      "274it [35:05,  7.39s/it]\u001b[A\n",
      "275it [35:11,  7.16s/it]\u001b[A\n",
      "276it [35:18,  6.99s/it]\u001b[A\n",
      "277it [35:25,  7.19s/it]\u001b[A\n",
      "278it [35:32,  7.13s/it]\u001b[A\n",
      "279it [35:39,  7.07s/it]\u001b[A\n",
      "280it [35:46,  6.95s/it]\u001b[A\n",
      "281it [35:53,  7.03s/it]\u001b[A\n",
      "282it [36:00,  6.90s/it]\u001b[A\n",
      "283it [36:06,  6.81s/it]\u001b[A\n",
      "284it [36:14,  6.92s/it]\u001b[A\n",
      "285it [36:20,  6.86s/it]\u001b[A\n",
      "286it [36:28,  7.08s/it]\u001b[A\n",
      "287it [36:37,  7.62s/it]\u001b[A\n",
      "288it [36:45,  7.94s/it]\u001b[A\n",
      "289it [36:54,  8.07s/it]\u001b[A\n",
      "290it [37:02,  8.22s/it]\u001b[A\n",
      "291it [37:11,  8.22s/it]\u001b[A\n",
      "292it [37:19,  8.15s/it]\u001b[A\n",
      "293it [37:26,  7.91s/it]\u001b[A\n",
      "294it [37:33,  7.71s/it]\u001b[A\n",
      "295it [37:42,  8.02s/it]\u001b[A\n",
      "296it [37:50,  7.96s/it]\u001b[A\n",
      "297it [37:57,  7.79s/it]\u001b[A\n",
      "298it [38:06,  8.05s/it]\u001b[A\n",
      "299it [38:14,  8.16s/it]\u001b[A\n",
      "300it [38:22,  7.89s/it]\u001b[A\n",
      "301it [38:30,  8.04s/it]\u001b[A\n",
      "302it [38:38,  8.19s/it]\u001b[A\n",
      "303it [38:46,  8.00s/it]\u001b[A\n",
      "304it [38:53,  7.76s/it]\u001b[A\n",
      "305it [39:02,  8.17s/it]\u001b[A\n",
      "306it [39:11,  8.23s/it]\u001b[A\n",
      "307it [39:18,  8.03s/it]\u001b[A\n",
      "308it [39:26,  7.85s/it]\u001b[A\n",
      "309it [39:34,  7.99s/it]\u001b[A\n",
      "310it [39:42,  7.92s/it]\u001b[A\n",
      "311it [39:50,  7.94s/it]\u001b[A\n",
      "312it [39:58,  7.92s/it]\u001b[A\n",
      "313it [40:05,  7.78s/it]\u001b[A\n",
      "314it [40:13,  7.89s/it]\u001b[A\n",
      "315it [40:21,  7.86s/it]\u001b[A\n",
      "316it [40:30,  8.11s/it]\u001b[A\n",
      "317it [40:38,  8.15s/it]\u001b[A\n",
      "318it [40:47,  8.28s/it]\u001b[A\n",
      "319it [40:55,  8.49s/it]\u001b[A\n",
      "320it [41:04,  8.62s/it]\u001b[A\n",
      "321it [41:11,  8.15s/it]\u001b[A\n",
      "322it [41:19,  7.92s/it]\u001b[A\n",
      "323it [41:27,  7.85s/it]\u001b[A\n",
      "324it [41:33,  7.46s/it]\u001b[A\n",
      "325it [41:40,  7.69s/it]\u001b[A\n",
      "  0%|                                                    | 0/5 [44:30<?, ?it/s]\n"
     ]
    },
    {
     "ename": "NameError",
     "evalue": "name 'epoch' is not defined",
     "output_type": "error",
     "traceback": [
      "\u001b[0;31m---------------------------------------------------------------------------\u001b[0m",
      "\u001b[0;31mNameError\u001b[0m                                 Traceback (most recent call last)",
      "\u001b[0;32m/tmp/ipykernel_1337092/753420913.py\u001b[0m in \u001b[0;36m<module>\u001b[0;34m\u001b[0m\n\u001b[1;32m     68\u001b[0m             \u001b[0;31m# Save the weights in your desired path\u001b[0m\u001b[0;34m\u001b[0m\u001b[0;34m\u001b[0m\u001b[0m\n\u001b[1;32m     69\u001b[0m             \u001b[0;31m# torch.save(vgg16.state_dict(), f\"/content/drive/MyDrive/VGG_weights/vgg_weights_{epoch}.pth\")\u001b[0m\u001b[0;34m\u001b[0m\u001b[0;34m\u001b[0m\u001b[0m\n\u001b[0;32m---> 70\u001b[0;31m             \u001b[0mtorch\u001b[0m\u001b[0;34m.\u001b[0m\u001b[0msave\u001b[0m\u001b[0;34m(\u001b[0m\u001b[0mvgg16\u001b[0m\u001b[0;34m.\u001b[0m\u001b[0mstate_dict\u001b[0m\u001b[0;34m(\u001b[0m\u001b[0;34m)\u001b[0m\u001b[0;34m,\u001b[0m \u001b[0;34mf\"/home/ml_user/Webfountaine_full_course/Final_project/Final_working_code/VGG_weights/vgg_weights_{epoch}.pth\"\u001b[0m\u001b[0;34m)\u001b[0m\u001b[0;34m\u001b[0m\u001b[0;34m\u001b[0m\u001b[0m\n\u001b[0m\u001b[1;32m     71\u001b[0m \u001b[0;34m\u001b[0m\u001b[0m\n\u001b[1;32m     72\u001b[0m             \u001b[0mprint\u001b[0m\u001b[0;34m(\u001b[0m\u001b[0;34m'epoch :'\u001b[0m\u001b[0;34m,\u001b[0m \u001b[0;34m(\u001b[0m\u001b[0me\u001b[0m\u001b[0;34m+\u001b[0m\u001b[0;36m1\u001b[0m\u001b[0;34m)\u001b[0m\u001b[0;34m)\u001b[0m\u001b[0;34m\u001b[0m\u001b[0;34m\u001b[0m\u001b[0m\n",
      "\u001b[0;31mNameError\u001b[0m: name 'epoch' is not defined"
     ]
    }
   ],
   "source": [
    "from tqdm import tqdm\n",
    "\n",
    "epochs = 5\n",
    "running_loss_history = []\n",
    "running_corrects_history = []\n",
    "val_running_loss_history = []\n",
    "val_running_corrects_history = []\n",
    "\n",
    "for e in tqdm(range(epochs)):\n",
    "\n",
    "    torch.cuda.empty_cache()\n",
    "    \n",
    "    running_loss = 0.0\n",
    "    running_corrects = 0.0\n",
    "    val_running_loss = 0.0\n",
    "    val_running_corrects = 0.0\n",
    "  \n",
    "    for batch_idx, (inputs, labels) in tqdm(enumerate(train_loader)):\n",
    "        \n",
    "        \n",
    "#         if batch_idx % 10 == 0:\n",
    "#             print(f\"Batch {batch_idx} from {len(train_loader)} of epoch {e + 1}\")\n",
    "            \n",
    "        inputs = inputs.to(device)\n",
    "        labels = labels.to(device)\n",
    "        vgg16.train()\n",
    "        outputs = vgg16(inputs)                      # predict using the model class\n",
    "\n",
    "        loss = criterion(outputs, labels)           # calculate the loss\n",
    "\n",
    "        optimizer.zero_grad()                       # make the gradients zero so as to not accumulate\n",
    "        loss.backward()                             # backward is to calculate the gradients\n",
    "        optimizer.step()                            # update the weights using the step fucntion \n",
    "\n",
    "        _, preds = torch.max(outputs, 1)            \n",
    "        running_loss += loss.item()                 \n",
    "        running_corrects += torch.sum(preds == labels.data)  \n",
    "\n",
    "        del inputs\n",
    "        del labels\n",
    "\n",
    "    else:\n",
    "        with torch.no_grad():\n",
    "            for val_inputs, val_labels in val_loader:\n",
    "                \n",
    "                #val_inputs = val_inputs.view(val_inputs.shape[0], -1)   # flattten if we have neural net architecture\n",
    "                val_inputs = val_inputs.to(device)\n",
    "                val_labels = val_labels.to(device)\n",
    "                val_outputs = vgg16(val_inputs)                    # predict\n",
    "                val_loss = criterion(val_outputs, val_labels)           # calculate loss\n",
    "\n",
    "                _, val_preds = torch.max(val_outputs, 1)\n",
    "                val_running_loss += val_loss.item()                                # add up validation loss\n",
    "                val_running_corrects += torch.sum(val_preds == val_labels.data)    # calcualte the exact number of correct predictions\n",
    "\n",
    "            epoch_loss = running_loss/ len(train_set)             \n",
    "            epoch_acc = running_corrects.float()/ len(train_set)\n",
    "\n",
    "            running_loss_history.append(epoch_loss)                    \n",
    "            running_corrects_history.append(epoch_acc)                 \n",
    "\n",
    "            val_epoch_loss = val_running_loss/len(valid_set) \n",
    "            val_epoch_acc = val_running_corrects.float()/ len(valid_set)   \n",
    "            val_running_loss_history.append(val_epoch_loss)\n",
    "            val_running_corrects_history.append(val_epoch_acc)\n",
    "            \n",
    "            vgg16.eval()\n",
    "            # Save the weights in your desired path \n",
    "            # torch.save(vgg16.state_dict(), f\"/content/drive/MyDrive/VGG_weights/vgg_weights_{epoch}.pth\")\n",
    "            torch.save(vgg16.state_dict(), f\"/home/ml_user/Webfountaine_full_course/Final_project/Final_working_code/VGG_weights/vgg_weights_{e}.pth\")\n",
    "            \n",
    "            print('epoch :', (e+1))                                   \n",
    "            print('training loss: {:.4f}, acc {:.4f} '.format(epoch_loss, epoch_acc.item()))\n",
    "            print('validation loss: {:.4f}, validation acc {:.4f} '.format(val_epoch_loss, val_epoch_acc.item()))\n",
    "\n",
    "\n",
    "plt.plot(running_loss_history, label='training loss')\n",
    "plt.plot(val_running_loss_history, label='validation loss')\n",
    "plt.show()"
   ]
  },
  {
   "cell_type": "markdown",
   "id": "2af53a4c",
   "metadata": {},
   "source": [
    "# Another way of training our model "
   ]
  },
  {
   "cell_type": "markdown",
   "id": "8f4876ed",
   "metadata": {},
   "source": [
    "# Defining auxiliary methods for our training process"
   ]
  },
  {
   "cell_type": "code",
   "execution_count": null,
   "id": "49c2f27d",
   "metadata": {},
   "outputs": [],
   "source": [
    "def evaluate(model, test_loader, device):\n",
    "    with torch.no_grad():\n",
    "        correct_preds, n_preds = 0, 0\n",
    "        for i, (X_i, y_i) in tqdm(enumerate(test_loader), \"Evaluating...\", total=len(test_loader)):\n",
    "            X_i = X_i.to(device)\n",
    "            y_i = y_i.to(device)\n",
    "            out_i = model(X_i)\n",
    "            correct_preds += sum(torch.argmax(out_i, dim=1) == y_i)\n",
    "            n_preds += len(y_i)\n",
    "     \n",
    "    return int(correct_preds) / n_preds"
   ]
  },
  {
   "cell_type": "code",
   "execution_count": null,
   "id": "8044f033",
   "metadata": {},
   "outputs": [],
   "source": [
    "def compute_avg_loss(model, loader, criterion, device):\n",
    "    \n",
    "    \"\"\"\n",
    "    Compute the average loss for validation after each epoch \n",
    "    \"\"\"\n",
    "    \n",
    "    total_loss = 0\n",
    "    \n",
    "    with torch.no_grad():\n",
    "        for batch_idx, (batch_data, batch_labels) in tqdm(enumerate(loader), \"Computing validation loss...\", total=len(loader)):\n",
    "            batch_data = batch_data.to(device)\n",
    "            batch_labels = batch_labels.to(device)\n",
    "\n",
    "            prediction = model(batch_data)\n",
    "            loss = criterion(prediction, batch_labels)\n",
    "            total_loss += loss.cpu()\n",
    "     \n",
    "    return total_loss / len(loader)"
   ]
  },
  {
   "cell_type": "markdown",
   "id": "070bbb31",
   "metadata": {},
   "source": [
    "# When we have Cuda we cam get the device name along with the total memory "
   ]
  },
  {
   "cell_type": "code",
   "execution_count": null,
   "id": "1ce2f34f",
   "metadata": {},
   "outputs": [],
   "source": [
    "# print('__CUDA Device Name:',torch.cuda.get_device_name(0))\n",
    "# print('__CUDA Device Total Memory [GB]:',torch.cuda.get_device_properties(0).total_memory/1e9)"
   ]
  },
  {
   "cell_type": "markdown",
   "id": "a98b58df",
   "metadata": {},
   "source": [
    "# Defining the actual training process"
   ]
  },
  {
   "cell_type": "code",
   "execution_count": null,
   "id": "a842f730",
   "metadata": {},
   "outputs": [],
   "source": [
    "n_epochs = 10\n",
    "train_losses = []\n",
    "val_losses = []\n",
    "train_accuracies = []\n",
    "val_accuracies = []\n",
    "\n",
    "device = 'cuda' if torch.cuda.is_available else 'cpu'\n",
    "vgg16.to(device)\n",
    "\n",
    "train_losses_batch = []\n",
    "\n",
    "for epoch in range(n_epochs):\n",
    "    vgg16.train()\n",
    "    for batch_idx, (batch_data, batch_labels) in tqdm(enumerate(train_loader), f\"Training epoch {epoch}\", total=len(train_loader)):\n",
    "\n",
    "        batch_data = batch_data.to(device)\n",
    "        batch_labels = batch_labels.to(device)\n",
    "\n",
    "        prediction = vgg16(batch_data)\n",
    "\n",
    "        loss = criterion(prediction, batch_labels)\n",
    "        train_losses_batch.append(loss.item())\n",
    "        loss.backward()\n",
    "        optimizer.step()\n",
    "        vgg16.zero_grad()\n",
    "\n",
    "    # Free up the GPU so we can run the evals on it.\n",
    "    del batch_data\n",
    "    del batch_labels\n",
    "\n",
    "    val_loss = compute_avg_loss(vgg16, val_loader, criterion, device)\n",
    "    scheduler.step(val_loss)\n",
    "\n",
    "    vgg16.eval()\n",
    "    #torch.save(vgg16.state_dict(), f\"/content/drive/MyDrive/VGG_weights/vgg_weights_{epoch}.pth\")\n",
    "    torch.save(vgg16.state_dict(), f\"/home/ml_user/Webfountaine_full_course/Final_project/Final_working_code/VGG_weights/vgg_weights_{epoch}.pth\")\n",
    "    \n",
    "    train_losses.append(sum(train_losses_batch) / len(train_losses_batch))\n",
    "    val_losses.append(val_loss)\n",
    "\n",
    "    train_accuracies.append( evaluate(vgg16, train_loader, device) )\n",
    "    val_accuracies.append( evaluate(vgg16, val_loader, device) )"
   ]
  },
  {
   "cell_type": "markdown",
   "id": "efc540f0",
   "metadata": {},
   "source": [
    "# Plotting the batch losses"
   ]
  },
  {
   "cell_type": "code",
   "execution_count": null,
   "id": "070f3a43",
   "metadata": {},
   "outputs": [],
   "source": [
    "plt.title(\"Batch loss\")\n",
    "plt.plot(train_losses_batch)"
   ]
  },
  {
   "cell_type": "markdown",
   "id": "95fbf6bb",
   "metadata": {},
   "source": [
    "# Plotting the train and validation lossess"
   ]
  },
  {
   "cell_type": "code",
   "execution_count": null,
   "id": "799c8cbb",
   "metadata": {},
   "outputs": [],
   "source": [
    "plt.plot(train_losses, label='Train loss')\n",
    "plt.plot(val_losses, label='Validation loss')\n",
    "plt.legend()\n",
    "plt.show()"
   ]
  },
  {
   "cell_type": "markdown",
   "id": "5e2bbf6a",
   "metadata": {},
   "source": [
    "# Plotting the train and validation accuraccies"
   ]
  },
  {
   "cell_type": "code",
   "execution_count": null,
   "id": "a0711163",
   "metadata": {},
   "outputs": [],
   "source": [
    "plt.plot(train_accuracies, label='Train accuracy')\n",
    "plt.plot(val_accuracies, label='Validation accuracy')\n",
    "plt.legend()\n",
    "plt.show()"
   ]
  },
  {
   "cell_type": "code",
   "execution_count": null,
   "id": "40b18639",
   "metadata": {},
   "outputs": [],
   "source": [
    "print(train_accuracies)\n",
    "print(val_accuracies)\n",
    "print(optimizer)\n",
    "\n"
   ]
  }
 ],
 "metadata": {
  "kernelspec": {
   "display_name": "Python 3 (ipykernel)",
   "language": "python",
   "name": "python3"
  },
  "language_info": {
   "codemirror_mode": {
    "name": "ipython",
    "version": 3
   },
   "file_extension": ".py",
   "mimetype": "text/x-python",
   "name": "python",
   "nbconvert_exporter": "python",
   "pygments_lexer": "ipython3",
   "version": "3.9.7"
  }
 },
 "nbformat": 4,
 "nbformat_minor": 5
}
